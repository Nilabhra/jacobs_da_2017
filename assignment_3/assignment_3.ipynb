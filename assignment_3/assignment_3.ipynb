{
 "cells": [
  {
   "cell_type": "code",
   "execution_count": 1,
   "metadata": {
    "collapsed": true
   },
   "outputs": [],
   "source": [
    "import pandas as pd\n",
    "import seaborn as sns\n",
    "import matplotlib.pyplot as plt\n",
    "import numpy as np\n",
    "%matplotlib inline"
   ]
  },
  {
   "cell_type": "code",
   "execution_count": 2,
   "metadata": {
    "collapsed": true
   },
   "outputs": [],
   "source": [
    "train = pd.read_csv('train.csv')"
   ]
  },
  {
   "cell_type": "code",
   "execution_count": 4,
   "metadata": {},
   "outputs": [
    {
     "data": {
      "text/html": [
       "<div>\n",
       "<style>\n",
       "    .dataframe thead tr:only-child th {\n",
       "        text-align: right;\n",
       "    }\n",
       "\n",
       "    .dataframe thead th {\n",
       "        text-align: left;\n",
       "    }\n",
       "\n",
       "    .dataframe tbody tr th {\n",
       "        vertical-align: top;\n",
       "    }\n",
       "</style>\n",
       "<table border=\"1\" class=\"dataframe\">\n",
       "  <thead>\n",
       "    <tr style=\"text-align: right;\">\n",
       "      <th></th>\n",
       "      <th>Id</th>\n",
       "      <th>MSSubClass</th>\n",
       "      <th>MSZoning</th>\n",
       "      <th>LotFrontage</th>\n",
       "      <th>LotArea</th>\n",
       "      <th>Street</th>\n",
       "      <th>Alley</th>\n",
       "      <th>LotShape</th>\n",
       "      <th>LandContour</th>\n",
       "      <th>Utilities</th>\n",
       "      <th>...</th>\n",
       "      <th>PoolArea</th>\n",
       "      <th>PoolQC</th>\n",
       "      <th>Fence</th>\n",
       "      <th>MiscFeature</th>\n",
       "      <th>MiscVal</th>\n",
       "      <th>MoSold</th>\n",
       "      <th>YrSold</th>\n",
       "      <th>SaleType</th>\n",
       "      <th>SaleCondition</th>\n",
       "      <th>SalePrice</th>\n",
       "    </tr>\n",
       "  </thead>\n",
       "  <tbody>\n",
       "    <tr>\n",
       "      <th>0</th>\n",
       "      <td>1</td>\n",
       "      <td>60</td>\n",
       "      <td>RL</td>\n",
       "      <td>65.0</td>\n",
       "      <td>8450</td>\n",
       "      <td>Pave</td>\n",
       "      <td>NaN</td>\n",
       "      <td>Reg</td>\n",
       "      <td>Lvl</td>\n",
       "      <td>AllPub</td>\n",
       "      <td>...</td>\n",
       "      <td>0</td>\n",
       "      <td>NaN</td>\n",
       "      <td>NaN</td>\n",
       "      <td>NaN</td>\n",
       "      <td>0</td>\n",
       "      <td>2</td>\n",
       "      <td>2008</td>\n",
       "      <td>WD</td>\n",
       "      <td>Normal</td>\n",
       "      <td>208500</td>\n",
       "    </tr>\n",
       "    <tr>\n",
       "      <th>1</th>\n",
       "      <td>2</td>\n",
       "      <td>20</td>\n",
       "      <td>RL</td>\n",
       "      <td>80.0</td>\n",
       "      <td>9600</td>\n",
       "      <td>Pave</td>\n",
       "      <td>NaN</td>\n",
       "      <td>Reg</td>\n",
       "      <td>Lvl</td>\n",
       "      <td>AllPub</td>\n",
       "      <td>...</td>\n",
       "      <td>0</td>\n",
       "      <td>NaN</td>\n",
       "      <td>NaN</td>\n",
       "      <td>NaN</td>\n",
       "      <td>0</td>\n",
       "      <td>5</td>\n",
       "      <td>2007</td>\n",
       "      <td>WD</td>\n",
       "      <td>Normal</td>\n",
       "      <td>181500</td>\n",
       "    </tr>\n",
       "    <tr>\n",
       "      <th>2</th>\n",
       "      <td>3</td>\n",
       "      <td>60</td>\n",
       "      <td>RL</td>\n",
       "      <td>68.0</td>\n",
       "      <td>11250</td>\n",
       "      <td>Pave</td>\n",
       "      <td>NaN</td>\n",
       "      <td>IR1</td>\n",
       "      <td>Lvl</td>\n",
       "      <td>AllPub</td>\n",
       "      <td>...</td>\n",
       "      <td>0</td>\n",
       "      <td>NaN</td>\n",
       "      <td>NaN</td>\n",
       "      <td>NaN</td>\n",
       "      <td>0</td>\n",
       "      <td>9</td>\n",
       "      <td>2008</td>\n",
       "      <td>WD</td>\n",
       "      <td>Normal</td>\n",
       "      <td>223500</td>\n",
       "    </tr>\n",
       "    <tr>\n",
       "      <th>3</th>\n",
       "      <td>4</td>\n",
       "      <td>70</td>\n",
       "      <td>RL</td>\n",
       "      <td>60.0</td>\n",
       "      <td>9550</td>\n",
       "      <td>Pave</td>\n",
       "      <td>NaN</td>\n",
       "      <td>IR1</td>\n",
       "      <td>Lvl</td>\n",
       "      <td>AllPub</td>\n",
       "      <td>...</td>\n",
       "      <td>0</td>\n",
       "      <td>NaN</td>\n",
       "      <td>NaN</td>\n",
       "      <td>NaN</td>\n",
       "      <td>0</td>\n",
       "      <td>2</td>\n",
       "      <td>2006</td>\n",
       "      <td>WD</td>\n",
       "      <td>Abnorml</td>\n",
       "      <td>140000</td>\n",
       "    </tr>\n",
       "    <tr>\n",
       "      <th>4</th>\n",
       "      <td>5</td>\n",
       "      <td>60</td>\n",
       "      <td>RL</td>\n",
       "      <td>84.0</td>\n",
       "      <td>14260</td>\n",
       "      <td>Pave</td>\n",
       "      <td>NaN</td>\n",
       "      <td>IR1</td>\n",
       "      <td>Lvl</td>\n",
       "      <td>AllPub</td>\n",
       "      <td>...</td>\n",
       "      <td>0</td>\n",
       "      <td>NaN</td>\n",
       "      <td>NaN</td>\n",
       "      <td>NaN</td>\n",
       "      <td>0</td>\n",
       "      <td>12</td>\n",
       "      <td>2008</td>\n",
       "      <td>WD</td>\n",
       "      <td>Normal</td>\n",
       "      <td>250000</td>\n",
       "    </tr>\n",
       "  </tbody>\n",
       "</table>\n",
       "<p>5 rows × 81 columns</p>\n",
       "</div>"
      ],
      "text/plain": [
       "   Id  MSSubClass MSZoning  LotFrontage  LotArea Street Alley LotShape  \\\n",
       "0   1          60       RL         65.0     8450   Pave   NaN      Reg   \n",
       "1   2          20       RL         80.0     9600   Pave   NaN      Reg   \n",
       "2   3          60       RL         68.0    11250   Pave   NaN      IR1   \n",
       "3   4          70       RL         60.0     9550   Pave   NaN      IR1   \n",
       "4   5          60       RL         84.0    14260   Pave   NaN      IR1   \n",
       "\n",
       "  LandContour Utilities    ...     PoolArea PoolQC Fence MiscFeature MiscVal  \\\n",
       "0         Lvl    AllPub    ...            0    NaN   NaN         NaN       0   \n",
       "1         Lvl    AllPub    ...            0    NaN   NaN         NaN       0   \n",
       "2         Lvl    AllPub    ...            0    NaN   NaN         NaN       0   \n",
       "3         Lvl    AllPub    ...            0    NaN   NaN         NaN       0   \n",
       "4         Lvl    AllPub    ...            0    NaN   NaN         NaN       0   \n",
       "\n",
       "  MoSold YrSold  SaleType  SaleCondition  SalePrice  \n",
       "0      2   2008        WD         Normal     208500  \n",
       "1      5   2007        WD         Normal     181500  \n",
       "2      9   2008        WD         Normal     223500  \n",
       "3      2   2006        WD        Abnorml     140000  \n",
       "4     12   2008        WD         Normal     250000  \n",
       "\n",
       "[5 rows x 81 columns]"
      ]
     },
     "execution_count": 4,
     "metadata": {},
     "output_type": "execute_result"
    }
   ],
   "source": [
    "train.head()"
   ]
  },
  {
   "cell_type": "code",
   "execution_count": 7,
   "metadata": {
    "collapsed": true
   },
   "outputs": [],
   "source": [
    "cols = ['MSZoning', 'LotFrontage', 'LotArea', 'Alley', 'OverallQual', 'YearBuilt',\\\n",
    "        'RoofStyle', 'Exterior1st', 'ExterCond', 'CentralAir',  'HalfBath']"
   ]
  },
  {
   "cell_type": "code",
   "execution_count": 8,
   "metadata": {},
   "outputs": [
    {
     "data": {
      "text/html": [
       "<div>\n",
       "<style>\n",
       "    .dataframe thead tr:only-child th {\n",
       "        text-align: right;\n",
       "    }\n",
       "\n",
       "    .dataframe thead th {\n",
       "        text-align: left;\n",
       "    }\n",
       "\n",
       "    .dataframe tbody tr th {\n",
       "        vertical-align: top;\n",
       "    }\n",
       "</style>\n",
       "<table border=\"1\" class=\"dataframe\">\n",
       "  <thead>\n",
       "    <tr style=\"text-align: right;\">\n",
       "      <th></th>\n",
       "      <th>MSZoning</th>\n",
       "      <th>LotFrontage</th>\n",
       "      <th>LotArea</th>\n",
       "      <th>Alley</th>\n",
       "      <th>OverallQual</th>\n",
       "      <th>YearBuilt</th>\n",
       "      <th>RoofStyle</th>\n",
       "      <th>Exterior1st</th>\n",
       "      <th>ExterCond</th>\n",
       "      <th>CentralAir</th>\n",
       "      <th>HalfBath</th>\n",
       "    </tr>\n",
       "  </thead>\n",
       "  <tbody>\n",
       "    <tr>\n",
       "      <th>0</th>\n",
       "      <td>RL</td>\n",
       "      <td>65.0</td>\n",
       "      <td>8450</td>\n",
       "      <td>NaN</td>\n",
       "      <td>7</td>\n",
       "      <td>2003</td>\n",
       "      <td>Gable</td>\n",
       "      <td>VinylSd</td>\n",
       "      <td>TA</td>\n",
       "      <td>Y</td>\n",
       "      <td>1</td>\n",
       "    </tr>\n",
       "    <tr>\n",
       "      <th>1</th>\n",
       "      <td>RL</td>\n",
       "      <td>80.0</td>\n",
       "      <td>9600</td>\n",
       "      <td>NaN</td>\n",
       "      <td>6</td>\n",
       "      <td>1976</td>\n",
       "      <td>Gable</td>\n",
       "      <td>MetalSd</td>\n",
       "      <td>TA</td>\n",
       "      <td>Y</td>\n",
       "      <td>0</td>\n",
       "    </tr>\n",
       "    <tr>\n",
       "      <th>2</th>\n",
       "      <td>RL</td>\n",
       "      <td>68.0</td>\n",
       "      <td>11250</td>\n",
       "      <td>NaN</td>\n",
       "      <td>7</td>\n",
       "      <td>2001</td>\n",
       "      <td>Gable</td>\n",
       "      <td>VinylSd</td>\n",
       "      <td>TA</td>\n",
       "      <td>Y</td>\n",
       "      <td>1</td>\n",
       "    </tr>\n",
       "    <tr>\n",
       "      <th>3</th>\n",
       "      <td>RL</td>\n",
       "      <td>60.0</td>\n",
       "      <td>9550</td>\n",
       "      <td>NaN</td>\n",
       "      <td>7</td>\n",
       "      <td>1915</td>\n",
       "      <td>Gable</td>\n",
       "      <td>Wd Sdng</td>\n",
       "      <td>TA</td>\n",
       "      <td>Y</td>\n",
       "      <td>0</td>\n",
       "    </tr>\n",
       "    <tr>\n",
       "      <th>4</th>\n",
       "      <td>RL</td>\n",
       "      <td>84.0</td>\n",
       "      <td>14260</td>\n",
       "      <td>NaN</td>\n",
       "      <td>8</td>\n",
       "      <td>2000</td>\n",
       "      <td>Gable</td>\n",
       "      <td>VinylSd</td>\n",
       "      <td>TA</td>\n",
       "      <td>Y</td>\n",
       "      <td>1</td>\n",
       "    </tr>\n",
       "  </tbody>\n",
       "</table>\n",
       "</div>"
      ],
      "text/plain": [
       "  MSZoning  LotFrontage  LotArea Alley  OverallQual  YearBuilt RoofStyle  \\\n",
       "0       RL         65.0     8450   NaN            7       2003     Gable   \n",
       "1       RL         80.0     9600   NaN            6       1976     Gable   \n",
       "2       RL         68.0    11250   NaN            7       2001     Gable   \n",
       "3       RL         60.0     9550   NaN            7       1915     Gable   \n",
       "4       RL         84.0    14260   NaN            8       2000     Gable   \n",
       "\n",
       "  Exterior1st ExterCond CentralAir  HalfBath  \n",
       "0     VinylSd        TA          Y         1  \n",
       "1     MetalSd        TA          Y         0  \n",
       "2     VinylSd        TA          Y         1  \n",
       "3     Wd Sdng        TA          Y         0  \n",
       "4     VinylSd        TA          Y         1  "
      ]
     },
     "execution_count": 8,
     "metadata": {},
     "output_type": "execute_result"
    }
   ],
   "source": [
    "train[cols].head()"
   ]
  },
  {
   "cell_type": "code",
   "execution_count": 9,
   "metadata": {},
   "outputs": [
    {
     "data": {
      "text/plain": [
       "(2919, 11)"
      ]
     },
     "execution_count": 9,
     "metadata": {},
     "output_type": "execute_result"
    }
   ],
   "source": [
    "train[cols].shape"
   ]
  },
  {
   "cell_type": "code",
   "execution_count": 10,
   "metadata": {},
   "outputs": [
    {
     "data": {
      "text/html": [
       "<div>\n",
       "<style>\n",
       "    .dataframe thead tr:only-child th {\n",
       "        text-align: right;\n",
       "    }\n",
       "\n",
       "    .dataframe thead th {\n",
       "        text-align: left;\n",
       "    }\n",
       "\n",
       "    .dataframe tbody tr th {\n",
       "        vertical-align: top;\n",
       "    }\n",
       "</style>\n",
       "<table border=\"1\" class=\"dataframe\">\n",
       "  <thead>\n",
       "    <tr style=\"text-align: right;\">\n",
       "      <th></th>\n",
       "      <th>LotFrontage</th>\n",
       "      <th>LotArea</th>\n",
       "      <th>OverallQual</th>\n",
       "      <th>YearBuilt</th>\n",
       "      <th>HalfBath</th>\n",
       "    </tr>\n",
       "  </thead>\n",
       "  <tbody>\n",
       "    <tr>\n",
       "      <th>count</th>\n",
       "      <td>2433.000000</td>\n",
       "      <td>2919.000000</td>\n",
       "      <td>2919.000000</td>\n",
       "      <td>2919.000000</td>\n",
       "      <td>2919.000000</td>\n",
       "    </tr>\n",
       "    <tr>\n",
       "      <th>mean</th>\n",
       "      <td>69.305795</td>\n",
       "      <td>10168.114080</td>\n",
       "      <td>6.089072</td>\n",
       "      <td>1971.312778</td>\n",
       "      <td>0.380267</td>\n",
       "    </tr>\n",
       "    <tr>\n",
       "      <th>std</th>\n",
       "      <td>23.344905</td>\n",
       "      <td>7886.996359</td>\n",
       "      <td>1.409947</td>\n",
       "      <td>30.291442</td>\n",
       "      <td>0.502872</td>\n",
       "    </tr>\n",
       "    <tr>\n",
       "      <th>min</th>\n",
       "      <td>21.000000</td>\n",
       "      <td>1300.000000</td>\n",
       "      <td>1.000000</td>\n",
       "      <td>1872.000000</td>\n",
       "      <td>0.000000</td>\n",
       "    </tr>\n",
       "    <tr>\n",
       "      <th>25%</th>\n",
       "      <td>59.000000</td>\n",
       "      <td>7478.000000</td>\n",
       "      <td>5.000000</td>\n",
       "      <td>1953.500000</td>\n",
       "      <td>0.000000</td>\n",
       "    </tr>\n",
       "    <tr>\n",
       "      <th>50%</th>\n",
       "      <td>68.000000</td>\n",
       "      <td>9453.000000</td>\n",
       "      <td>6.000000</td>\n",
       "      <td>1973.000000</td>\n",
       "      <td>0.000000</td>\n",
       "    </tr>\n",
       "    <tr>\n",
       "      <th>75%</th>\n",
       "      <td>80.000000</td>\n",
       "      <td>11570.000000</td>\n",
       "      <td>7.000000</td>\n",
       "      <td>2001.000000</td>\n",
       "      <td>1.000000</td>\n",
       "    </tr>\n",
       "    <tr>\n",
       "      <th>max</th>\n",
       "      <td>313.000000</td>\n",
       "      <td>215245.000000</td>\n",
       "      <td>10.000000</td>\n",
       "      <td>2010.000000</td>\n",
       "      <td>2.000000</td>\n",
       "    </tr>\n",
       "  </tbody>\n",
       "</table>\n",
       "</div>"
      ],
      "text/plain": [
       "       LotFrontage        LotArea  OverallQual    YearBuilt     HalfBath\n",
       "count  2433.000000    2919.000000  2919.000000  2919.000000  2919.000000\n",
       "mean     69.305795   10168.114080     6.089072  1971.312778     0.380267\n",
       "std      23.344905    7886.996359     1.409947    30.291442     0.502872\n",
       "min      21.000000    1300.000000     1.000000  1872.000000     0.000000\n",
       "25%      59.000000    7478.000000     5.000000  1953.500000     0.000000\n",
       "50%      68.000000    9453.000000     6.000000  1973.000000     0.000000\n",
       "75%      80.000000   11570.000000     7.000000  2001.000000     1.000000\n",
       "max     313.000000  215245.000000    10.000000  2010.000000     2.000000"
      ]
     },
     "execution_count": 10,
     "metadata": {},
     "output_type": "execute_result"
    }
   ],
   "source": [
    "train[cols].describe()"
   ]
  },
  {
   "cell_type": "code",
   "execution_count": 11,
   "metadata": {},
   "outputs": [
    {
     "name": "stdout",
     "output_type": "stream",
     "text": [
      "RL         2265\n",
      "RM          460\n",
      "FV          139\n",
      "RH           26\n",
      "C (all)      25\n",
      "Name: MSZoning, dtype: int64\n",
      "60.0     276\n",
      "80.0     137\n",
      "70.0     133\n",
      "50.0     117\n",
      "75.0     105\n",
      "65.0      93\n",
      "85.0      76\n",
      "21.0      50\n",
      "24.0      49\n",
      "63.0      47\n",
      "78.0      46\n",
      "90.0      46\n",
      "68.0      44\n",
      "64.0      43\n",
      "74.0      39\n",
      "72.0      39\n",
      "73.0      33\n",
      "62.0      31\n",
      "52.0      28\n",
      "100.0     28\n",
      "82.0      28\n",
      "79.0      28\n",
      "51.0      27\n",
      "59.0      27\n",
      "57.0      26\n",
      "66.0      26\n",
      "76.0      25\n",
      "53.0      24\n",
      "55.0      24\n",
      "43.0      23\n",
      "        ... \n",
      "140.0      2\n",
      "122.0      2\n",
      "116.0      2\n",
      "149.0      2\n",
      "150.0      2\n",
      "174.0      2\n",
      "25.0       1\n",
      "123.0      1\n",
      "135.0      1\n",
      "111.0      1\n",
      "117.0      1\n",
      "131.0      1\n",
      "200.0      1\n",
      "22.0       1\n",
      "136.0      1\n",
      "28.0       1\n",
      "31.0       1\n",
      "133.0      1\n",
      "155.0      1\n",
      "153.0      1\n",
      "126.0      1\n",
      "152.0      1\n",
      "168.0      1\n",
      "144.0      1\n",
      "138.0      1\n",
      "137.0      1\n",
      "182.0      1\n",
      "119.0      1\n",
      "195.0      1\n",
      "141.0      1\n",
      "Name: LotFrontage, Length: 128, dtype: int64\n",
      "9600     44\n",
      "7200     43\n",
      "6000     34\n",
      "9000     29\n",
      "10800    25\n",
      "8400     21\n",
      "7500     21\n",
      "1680     18\n",
      "6240     18\n",
      "6120     17\n",
      "7000     13\n",
      "9750     12\n",
      "8125     12\n",
      "9100     12\n",
      "10400    11\n",
      "8000     10\n",
      "8640     10\n",
      "5400     10\n",
      "8450      9\n",
      "8750      9\n",
      "5000      9\n",
      "9900      9\n",
      "2280      9\n",
      "10000     9\n",
      "3182      8\n",
      "10320     8\n",
      "7800      8\n",
      "10200     7\n",
      "10625     7\n",
      "8800      7\n",
      "         ..\n",
      "4765      1\n",
      "12961     1\n",
      "10836     1\n",
      "12883     1\n",
      "10832     1\n",
      "13587     1\n",
      "5220      1\n",
      "31250     1\n",
      "4270      1\n",
      "8731      1\n",
      "10780     1\n",
      "2592      1\n",
      "8737      1\n",
      "10790     1\n",
      "14892     1\n",
      "8755      1\n",
      "4761      1\n",
      "7244      1\n",
      "6710      1\n",
      "12217     1\n",
      "8765      1\n",
      "6718      1\n",
      "8767      1\n",
      "10816     1\n",
      "10818     1\n",
      "12867     1\n",
      "2628      1\n",
      "8775      1\n",
      "13478     1\n",
      "12292     1\n",
      "Name: LotArea, Length: 1951, dtype: int64\n",
      "Grvl    120\n",
      "Pave     78\n",
      "Name: Alley, dtype: int64\n",
      "5     825\n",
      "6     731\n",
      "7     600\n",
      "8     342\n",
      "4     226\n",
      "9     107\n",
      "3      40\n",
      "10     31\n",
      "2      13\n",
      "1       4\n",
      "Name: OverallQual, dtype: int64\n",
      "2005    142\n",
      "2006    138\n",
      "2007    109\n",
      "2004     99\n",
      "2003     88\n",
      "1977     57\n",
      "1920     57\n",
      "1976     54\n",
      "1999     52\n",
      "2008     49\n",
      "1958     48\n",
      "2000     48\n",
      "2002     47\n",
      "1998     46\n",
      "1968     45\n",
      "1959     43\n",
      "1954     43\n",
      "1910     43\n",
      "1970     42\n",
      "1967     41\n",
      "1972     40\n",
      "1956     39\n",
      "1971     39\n",
      "1978     39\n",
      "1993     39\n",
      "1950     38\n",
      "1994     37\n",
      "1960     37\n",
      "1940     36\n",
      "1966     35\n",
      "       ... \n",
      "1982      7\n",
      "1931      7\n",
      "1985      7\n",
      "1942      6\n",
      "1912      5\n",
      "1919      5\n",
      "1932      5\n",
      "1880      5\n",
      "1934      5\n",
      "2010      3\n",
      "1905      3\n",
      "1895      3\n",
      "1917      3\n",
      "1908      2\n",
      "1885      2\n",
      "1901      2\n",
      "1892      2\n",
      "1882      1\n",
      "1896      1\n",
      "1898      1\n",
      "1902      1\n",
      "1907      1\n",
      "1904      1\n",
      "1906      1\n",
      "1913      1\n",
      "1911      1\n",
      "1875      1\n",
      "1879      1\n",
      "1893      1\n",
      "1872      1\n",
      "Name: YearBuilt, Length: 118, dtype: int64\n",
      "Gable      2310\n",
      "Hip         551\n",
      "Gambrel      22\n",
      "Flat         20\n",
      "Mansard      11\n",
      "Shed          5\n",
      "Name: RoofStyle, dtype: int64\n",
      "VinylSd    1025\n",
      "MetalSd     450\n",
      "HdBoard     442\n",
      "Wd Sdng     411\n",
      "Plywood     221\n",
      "CemntBd     126\n",
      "BrkFace      87\n",
      "WdShing      56\n",
      "AsbShng      44\n",
      "Stucco       43\n",
      "BrkComm       6\n",
      "Stone         2\n",
      "CBlock        2\n",
      "AsphShn       2\n",
      "ImStucc       1\n",
      "Name: Exterior1st, dtype: int64\n",
      "TA    2538\n",
      "Gd     299\n",
      "Fa      67\n",
      "Ex      12\n",
      "Po       3\n",
      "Name: ExterCond, dtype: int64\n",
      "Y    2723\n",
      "N     196\n",
      "Name: CentralAir, dtype: int64\n",
      "0    1834\n",
      "1    1060\n",
      "2      25\n",
      "Name: HalfBath, dtype: int64\n"
     ]
    }
   ],
   "source": [
    "for col in cols:\n",
    "    print(train[col].value_counts())"
   ]
  },
  {
   "cell_type": "markdown",
   "metadata": {},
   "source": [
    "## Notes\n",
    "- MSZoning: Categorical\n",
    "- LotFrontage: Numerical Continuous\n",
    "- LotArea: Numerical Continuous\n",
    "- Alley: Categorical\n",
    "- OverallQual: Ordinal\n",
    "- YearBuilt: Numerical Discrete\n",
    "- RoofStyle: Categorical\n",
    "- Exterioirlst: Categorical\n",
    "- ExterCond: Categorical\n",
    "- CentralAir: Categorical\n",
    "- HalfBath: Oridinal"
   ]
  },
  {
   "cell_type": "code",
   "execution_count": 12,
   "metadata": {},
   "outputs": [
    {
     "name": "stdout",
     "output_type": "stream",
     "text": [
      "MSZoning: 0: 0.1370332305584104%\n",
      "LotFrontage: 259: 16.649537512846866%\n",
      "LotArea: 0: 0.0%\n",
      "Alley: 1369: 93.21685508735868%\n",
      "OverallQual: 0: 0.0%\n",
      "YearBuilt: 0: 0.0%\n",
      "RoofStyle: 0: 0.0%\n",
      "Exterior1st: 0: 0.0342583076396026%\n",
      "ExterCond: 0: 0.0%\n",
      "CentralAir: 0: 0.0%\n",
      "HalfBath: 0: 0.0%\n"
     ]
    }
   ],
   "source": [
    "for col in cols:\n",
    "    print('{}: {}: {}%'.format(col, train[col].isnull().sum(), train[col].isnull().sum()*100/train[col].shape[0]))"
   ]
  },
  {
   "cell_type": "markdown",
   "metadata": {},
   "source": [
    "## MSZoning: Identifies the general zoning classification of the sale.\n",
    "\t\t\n",
    "- A  : Agriculture\n",
    "- C  : Commercial\n",
    "- FV : Floating Village Residential\n",
    "- I\t : Industrial\n",
    "- RH : Residential High Density\n",
    "- RL : Residential Low Density\n",
    "- RP : Residential Low Density Park \n",
    "- RM : Residential Medium Density"
   ]
  },
  {
   "cell_type": "code",
   "execution_count": 13,
   "metadata": {
    "collapsed": true
   },
   "outputs": [],
   "source": [
    "mszoning = train[train['MSZoning'].isnull() == False]['MSZoning']"
   ]
  },
  {
   "cell_type": "code",
   "execution_count": 14,
   "metadata": {},
   "outputs": [
    {
     "data": {
      "image/png": "[encoded data removed]",
      "text/plain": [
       "<matplotlib.figure.Figure at 0x10ed5d828>"
      ]
     },
     "metadata": {},
     "output_type": "display_data"
    }
   ],
   "source": [
    "sns.set(style=\"whitegrid\")\n",
    "fig = plt.figure()\n",
    "ax = sns.countplot(x=mszoning, orient=\"v\", order=['RL', 'RM', 'FV', 'C (all)', 'RH'])\n",
    "ax.set_title('Occurence counts of various zone types')\n",
    "ps = ((mszoning.value_counts() / mszoning.shape[0]) * 100).values\n",
    "for i, p in enumerate(ax.patches):\n",
    "    ax.annotate('{0:.2f}%'.format(ps[i]), (p.get_x() + 0.15, p.get_height()+50))\n",
    "ax.set_yticks(np.arange(0, 2800, 200))\n",
    "fig.add_subplot(ax)\n",
    "fig.set_size_inches(10, 5)"
   ]
  },
  {
   "cell_type": "markdown",
   "metadata": {},
   "source": [
    "### Remarks:\n",
    "- 77.7% of all the properties that have been considered for selling are residential areas with low population density.\n",
    "- 15.78% of all the properties that have been considered for selling are residential areas with medium population density.\n",
    "- We can infer from the above data that there is a high demand of residential area which have medium to low densities"
   ]
  },
  {
   "cell_type": "markdown",
   "metadata": {},
   "source": [
    "## LotFrontage: Linear feet of street connected to property"
   ]
  },
  {
   "cell_type": "code",
   "execution_count": 15,
   "metadata": {
    "collapsed": true
   },
   "outputs": [],
   "source": [
    "lotfrontage = train[train['LotFrontage'].isnull() == False]['LotFrontage']"
   ]
  },
  {
   "cell_type": "code",
   "execution_count": 16,
   "metadata": {},
   "outputs": [
    {
     "data": {
      "text/plain": [
       "count    2433.000000\n",
       "mean       69.305795\n",
       "std        23.344905\n",
       "min        21.000000\n",
       "25%        59.000000\n",
       "50%        68.000000\n",
       "75%        80.000000\n",
       "max       313.000000\n",
       "Name: LotFrontage, dtype: float64"
      ]
     },
     "execution_count": 16,
     "metadata": {},
     "output_type": "execute_result"
    }
   ],
   "source": [
    "lotfrontage.describe()"
   ]
  },
  {
   "cell_type": "code",
   "execution_count": 17,
   "metadata": {},
   "outputs": [
    {
     "data": {
      "image/png": "[encoded data removed]",
      "text/plain": [
       "<matplotlib.figure.Figure at 0x10ed5d2e8>"
      ]
     },
     "metadata": {},
     "output_type": "display_data"
    }
   ],
   "source": [
    "sns.set(style=\"whitegrid\")\n",
    "fig = plt.figure()\n",
    "ax = sns.distplot(a=lotfrontage, kde=False, color='purple', bins=70)\n",
    "ax.set_title('Distribution of LotFrontage')\n",
    "ax.set_yticks(np.arange(0, 450, 50))\n",
    "ax.set_xticks(np.arange(0, 350, 20))\n",
    "ax.set_ylabel('Counts')\n",
    "ax.set_xlabel('LotFrontage (feet)')\n",
    "fig.add_subplot(ax)\n",
    "fig.set_size_inches(10, 5)"
   ]
  },
  {
   "cell_type": "code",
   "execution_count": 18,
   "metadata": {},
   "outputs": [
    {
     "data": {
      "text/plain": [
       "array([ 141.,  144.,  149.,  149.,  150.,  150.,  152.,  153.,  155.,\n",
       "        160.,  160.,  160.,  168.,  174.,  174.,  182.,  195.,  200.,\n",
       "        313.,  313.])"
      ]
     },
     "execution_count": 18,
     "metadata": {},
     "output_type": "execute_result"
    }
   ],
   "source": [
    "np.sort(lotfrontage.values)[-20:]"
   ]
  },
  {
   "cell_type": "markdown",
   "metadata": {},
   "source": [
    "### Remarks:\n",
    "- Most of the properties have street of lenght 60 to 80 feet connected to it.\n",
    "- It is highly likely there are two outliers which have a 313 feet of street connected to the property. "
   ]
  },
  {
   "cell_type": "markdown",
   "metadata": {},
   "source": [
    "## LotArea: Lot size in square feet"
   ]
  },
  {
   "cell_type": "code",
   "execution_count": 19,
   "metadata": {
    "collapsed": true
   },
   "outputs": [],
   "source": [
    "lotarea = train[train['LotArea'].isnull() == False]['LotArea']"
   ]
  },
  {
   "cell_type": "code",
   "execution_count": 20,
   "metadata": {},
   "outputs": [
    {
     "data": {
      "image/png": "[encoded data removed]",
      "text/plain": [
       "<matplotlib.figure.Figure at 0x112cd6278>"
      ]
     },
     "metadata": {},
     "output_type": "display_data"
    }
   ],
   "source": [
    "sns.set(style=\"whitegrid\")\n",
    "fig = plt.figure()\n",
    "ax = sns.distplot(a=lotarea, kde=False, color='blue', bins=200)\n",
    "ax.set_title('Distribution of LotArea')\n",
    "ax.set_xticks(np.arange(0, 250000, 5000))\n",
    "ax.set_xlim(0, 60000)\n",
    "ax.set_yticks(np.arange(0, 500, 50))\n",
    "ax.set_ylim(0, 500)\n",
    "ax.set_ylabel('Counts')\n",
    "ax.set_xlabel('LotArea (square feet)')\n",
    "fig.add_subplot(ax)\n",
    "fig.set_size_inches(10, 5)"
   ]
  },
  {
   "cell_type": "markdown",
   "metadata": {},
   "source": [
    "### Remarks:\n",
    "- Most of the properties sold have a lot area of 5000 to 1000 square feet.\n",
    "- We could conclude that large properties are sold rarely."
   ]
  },
  {
   "cell_type": "markdown",
   "metadata": {},
   "source": [
    "## Alley: Type of alley access to property\n",
    "- Grvl:\tGravel\n",
    "- Pave: Paved\n",
    "- NA: \tNo alley access"
   ]
  },
  {
   "cell_type": "code",
   "execution_count": 21,
   "metadata": {
    "collapsed": true
   },
   "outputs": [],
   "source": [
    "alley = train['Alley']\n",
    "alley = alley.fillna('No Alley Access')\n",
    "alley = alley.replace('Grvl', 'Gravel')\n",
    "alley = alley.replace('Pave', 'Paved')"
   ]
  },
  {
   "cell_type": "code",
   "execution_count": 22,
   "metadata": {},
   "outputs": [
    {
     "data": {
      "image/png": "[encoded data removed]",
      "text/plain": [
       "<matplotlib.figure.Figure at 0x1132a8898>"
      ]
     },
     "metadata": {},
     "output_type": "display_data"
    }
   ],
   "source": [
    "sns.set(style=\"whitegrid\")\n",
    "fig = plt.figure()\n",
    "ax = sns.countplot(x=alley, order=['No Alley Access', 'Gravel', 'Paved'], palette='Set2')\n",
    "ax.set_title('Occurence counts of Alley types')\n",
    "ax.set_yticks(np.arange(0, 3000, 200))\n",
    "ax.set_ylim(0, 3000)\n",
    "ps = ((alley.value_counts() / alley.shape[0]) * 100).values\n",
    "for i, p in enumerate(ax.patches):\n",
    "    ax.annotate('{0:.2f}%'.format(ps[i]), (p.get_x() + 0.35, p.get_height() + 50))\n",
    "ax.set_ylabel('Counts')\n",
    "fig.add_subplot(ax)\n",
    "fig.set_size_inches(10, 5)"
   ]
  },
  {
   "cell_type": "markdown",
   "metadata": {
    "collapsed": true
   },
   "source": [
    "### Remarks:\n",
    "- Most of the properties that have been sold do not have an alley access.\n",
    "- This could mean having an alley access could either be undesirable in general."
   ]
  },
  {
   "cell_type": "markdown",
   "metadata": {},
   "source": [
    "## OverallQual: Rates the overall material and finish of the house\n",
    "- 10:\tVery Excellent\n",
    "- 9:\tExcellent\n",
    "- 8:\tVery Good\n",
    "- 7:\tGood\n",
    "- 6:\tAbove Average\n",
    "- 5:\tAverage\n",
    "- 4:\tBelow Average\n",
    "- 3:\tFair\n",
    "- 2:\tPoor\n",
    "- 1:\tVery Poor\n"
   ]
  },
  {
   "cell_type": "code",
   "execution_count": 48,
   "metadata": {},
   "outputs": [
    {
     "data": {
      "image/png": "[encoded data removed]",
      "text/plain": [
       "<matplotlib.figure.Figure at 0x113af7fd0>"
      ]
     },
     "metadata": {},
     "output_type": "display_data"
    }
   ],
   "source": [
    "with sns.axes_style(\"darkgrid\"):\n",
    "    fig = plt.figure()\n",
    "    ax = sns.countplot(x=\"OverallQual\", data=train, palette=sns.light_palette(\"green\", 10))\n",
    "    ax.set_title('Occurence counts of Quality types')\n",
    "    ax.set_yticks(np.arange(0, 500, 50))\n",
    "    ax.set_ylim(0, 450)\n",
    "    ps = ((data['OverallQual'].value_counts()[list(range(1, 11))] / data['OverallQual'].shape[0]) * 100).values\n",
    "    for i, p in enumerate(ax.patches):\n",
    "        ax.annotate('{0:.2f}%'.format(ps[i]), (p.get_x() + 0.1, p.get_height() + 5))\n",
    "    ax.set_ylabel('Counts')\n",
    "    fig.add_subplot(ax)\n",
    "    fig.set_size_inches(10, 10)"
   ]
  },
  {
   "cell_type": "markdown",
   "metadata": {},
   "source": [
    "### Remarks:\n",
    "- The graph shows an expected behaviour; while a poor quality properly rarely gets sold, an average quality one would be sold the most. Properties with excellent quality would come with a high price tag and would also be sold lot less compared to an average property.\n"
   ]
  },
  {
   "cell_type": "code",
   "execution_count": null,
   "metadata": {
    "collapsed": true
   },
   "outputs": [],
   "source": []
  }
 ],
 "metadata": {
  "kernelspec": {
   "display_name": "Python 3",
   "language": "python",
   "name": "python3"
  },
  "language_info": {
   "codemirror_mode": {
    "name": "ipython",
    "version": 3
   },
   "file_extension": ".py",
   "mimetype": "text/x-python",
   "name": "python",
   "nbconvert_exporter": "python",
   "pygments_lexer": "ipython3",
   "version": "3.6.2"
  }
 },
 "nbformat": 4,
 "nbformat_minor": 2
}
