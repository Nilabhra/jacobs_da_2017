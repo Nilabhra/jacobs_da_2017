{
 "cells": [
  {
   "cell_type": "code",
   "execution_count": null,
   "metadata": {
    "collapsed": true
   },
   "outputs": [],
   "source": [
    "import pandas as pd\n",
    "import seaborn as sns\n",
    "import matplotlib.pyplot as plt\n",
    "import numpy as np\n",
    "%matplotlib inline"
   ]
  },
  {
   "cell_type": "code",
   "execution_count": null,
   "metadata": {
    "collapsed": true
   },
   "outputs": [],
   "source": [
    "train = pd.read_csv('train.csv')"
   ]
  },
  {
   "cell_type": "code",
   "execution_count": null,
   "metadata": {},
   "outputs": [],
   "source": [
    "train.head()"
   ]
  },
  {
   "cell_type": "code",
   "execution_count": null,
   "metadata": {
    "collapsed": true
   },
   "outputs": [],
   "source": [
    "cols = ['MSZoning', 'LotFrontage', 'LotArea', 'Alley', 'OverallQual', 'YearBuilt',\\\n",
    "        'RoofStyle', 'Exterior1st', 'ExterCond', 'CentralAir',  'HalfBath']"
   ]
  },
  {
   "cell_type": "code",
   "execution_count": null,
   "metadata": {},
   "outputs": [],
   "source": [
    "train[cols].head()"
   ]
  },
  {
   "cell_type": "code",
   "execution_count": null,
   "metadata": {},
   "outputs": [],
   "source": [
    "train[cols].shape"
   ]
  },
  {
   "cell_type": "code",
   "execution_count": null,
   "metadata": {},
   "outputs": [],
   "source": [
    "train[cols].describe()"
   ]
  },
  {
   "cell_type": "code",
   "execution_count": null,
   "metadata": {},
   "outputs": [],
   "source": [
    "for col in cols:\n",
    "    print(train[col].value_counts())"
   ]
  },
  {
   "cell_type": "markdown",
   "metadata": {},
   "source": [
    "## Notes\n",
    "- MSZoning: Categorical\n",
    "- LotFrontage: Numerical Continuous\n",
    "- LotArea: Numerical Continuous\n",
    "- Alley: Categorical\n",
    "- OverallQual: Ordinal\n",
    "- YearBuilt: Numerical Discrete\n",
    "- RoofStyle: Categorical\n",
    "- Exterioirlst: Categorical\n",
    "- ExterCond: Categorical\n",
    "- CentralAir: Categorical\n",
    "- HalfBath: Oridinal"
   ]
  },
  {
   "cell_type": "code",
   "execution_count": null,
   "metadata": {},
   "outputs": [],
   "source": [
    "for col in cols:\n",
    "    print('{}: {}%'.format(col, train[col].isnull().sum()*100/train[col].shape[0]))"
   ]
  },
  {
   "cell_type": "markdown",
   "metadata": {},
   "source": [
    "## MSZoning: Identifies the general zoning classification of the sale.\n",
    "\t\t\n",
    "- A  : Agriculture\n",
    "- C  : Commercial\n",
    "- FV : Floating Village Residential\n",
    "- I\t : Industrial\n",
    "- RH : Residential High Density\n",
    "- RL : Residential Low Density\n",
    "- RP : Residential Low Density Park \n",
    "- RM : Residential Medium Density"
   ]
  },
  {
   "cell_type": "code",
   "execution_count": null,
   "metadata": {
    "collapsed": true
   },
   "outputs": [],
   "source": [
    "mszoning = train[train['MSZoning'].isnull() == False]['MSZoning']"
   ]
  },
  {
   "cell_type": "code",
   "execution_count": null,
   "metadata": {},
   "outputs": [],
   "source": [
    "sns.set(font_scale=1.2)\n",
    "with sns.axes_style(\"whitegrid\"):\n",
    "    fig = plt.figure()\n",
    "    ax = sns.countplot(x=mszoning, orient=\"v\", order=['RL', 'RM', 'FV', 'RH', 'C (all)'])\n",
    "    ax.set_title('Occurence counts of various zone types', size=20)\n",
    "    ax.set_ylabel('No.of Houses', size=15)\n",
    "    ax.set_xlabel('MSZoning', size=15)\n",
    "    ps = ((mszoning.value_counts() / mszoning.shape[0]) * 100).values\n",
    "    for i, p in enumerate(ax.patches):\n",
    "        ax.annotate('{0:.2f}%'.format(ps[i]), (p.get_x() + 0.20, p.get_height()+20))\n",
    "    ax.set_yticks(np.arange(0, 1400, 100))\n",
    "    fig.add_subplot(ax)\n",
    "    fig.set_size_inches(10, 5)"
   ]
  },
  {
   "cell_type": "markdown",
   "metadata": {},
   "source": [
    "### Remarks:\n",
    "- 77.7% of all the properties that have been considered for selling are residential areas with low population density.\n",
    "- 15.78% of all the properties that have been considered for selling are residential areas with medium population density.\n",
    "- We can infer from the above data that there is a high demand of residential area which have medium to low densities"
   ]
  },
  {
   "cell_type": "markdown",
   "metadata": {},
   "source": [
    "## LotFrontage: Linear feet of street connected to property"
   ]
  },
  {
   "cell_type": "code",
   "execution_count": null,
   "metadata": {
    "collapsed": true
   },
   "outputs": [],
   "source": [
    "lotfrontage = train[train['LotFrontage'].isnull() == False]['LotFrontage']"
   ]
  },
  {
   "cell_type": "code",
   "execution_count": null,
   "metadata": {},
   "outputs": [],
   "source": [
    "lotfrontage.describe()"
   ]
  },
  {
   "cell_type": "code",
   "execution_count": null,
   "metadata": {},
   "outputs": [],
   "source": [
    "sns.set(font_scale=1.2)\n",
    "with sns.axes_style(\"whitegrid\"):\n",
    "    fig = plt.figure()\n",
    "    ax = sns.distplot(a=lotfrontage, kde=False, color='purple', bins=70)\n",
    "    ax.set_title('Distribution of LotFrontage', size=20)\n",
    "    ax.set_yticks(np.arange(0, 200, 20))\n",
    "    ax.set_xticks(np.arange(0, 350, 20))\n",
    "    ax.set_ylabel('No.of Houses', size=15)\n",
    "    ax.set_xlabel('LotFrontage (feet)', size=15)\n",
    "    fig.add_subplot(ax)\n",
    "    fig.set_size_inches(10, 5)"
   ]
  },
  {
   "cell_type": "code",
   "execution_count": null,
   "metadata": {},
   "outputs": [],
   "source": [
    "np.sort(lotfrontage.values)[-20:]"
   ]
  },
  {
   "cell_type": "markdown",
   "metadata": {},
   "source": [
    "### Remarks:\n",
    "- Most of the properties have street of lenght 60 to 80 feet connected to it.\n",
    "- It is highly likely there are two outliers which have a 313 feet of street connected to the property. "
   ]
  },
  {
   "cell_type": "markdown",
   "metadata": {},
   "source": [
    "## LotArea: Lot size in square feet"
   ]
  },
  {
   "cell_type": "code",
   "execution_count": null,
   "metadata": {
    "collapsed": true
   },
   "outputs": [],
   "source": [
    "lotarea = train[train['LotArea'].isnull() == False]['LotArea']"
   ]
  },
  {
   "cell_type": "code",
   "execution_count": null,
   "metadata": {},
   "outputs": [],
   "source": [
    "sns.set(font_scale=1.2)\n",
    "with sns.axes_style(\"whitegrid\"):\n",
    "    fig = plt.figure()\n",
    "    ax = sns.distplot(a=lotarea, kde=False, color='blue', bins=200)\n",
    "    ax.set_title('Distribution of LotArea', size=20)\n",
    "    ax.set_xticks(np.arange(0, 250000, 5000))\n",
    "    ax.set_xlim(0, 60000)\n",
    "    ax.set_yticks(np.arange(0, 500, 50))\n",
    "    ax.set_ylim(0, 250)\n",
    "    ax.set_ylabel('No.of Houses', size=15)\n",
    "    ax.set_xlabel('LotArea (square feet)', size=15)\n",
    "    fig.add_subplot(ax)\n",
    "    fig.set_size_inches(10, 5)"
   ]
  },
  {
   "cell_type": "markdown",
   "metadata": {},
   "source": [
    "### Remarks:\n",
    "- Most of the properties sold have a lot area of 5000 to 1000 square feet.\n",
    "- We could conclude that large properties are sold rarely."
   ]
  },
  {
   "cell_type": "markdown",
   "metadata": {},
   "source": [
    "## Alley: Type of alley access to property\n",
    "- Grvl:\tGravel\n",
    "- Pave: Paved\n",
    "- NA: \tNo alley access"
   ]
  },
  {
   "cell_type": "code",
   "execution_count": null,
   "metadata": {
    "collapsed": true
   },
   "outputs": [],
   "source": [
    "alley = train['Alley']\n",
    "alley = alley.fillna('No Alley Access')\n",
    "alley = alley.replace('Grvl', 'Gravel')\n",
    "alley = alley.replace('Pave', 'Paved')"
   ]
  },
  {
   "cell_type": "code",
   "execution_count": null,
   "metadata": {},
   "outputs": [],
   "source": [
    "sns.set(font_scale=1.2)\n",
    "with sns.axes_style(\"whitegrid\"):\n",
    "    fig = plt.figure()\n",
    "    ax = sns.countplot(x=alley, order=['No Alley Access', 'Gravel', 'Paved'], palette='Set2')\n",
    "    ax.set_title('Occurence counts of Alley types', size=20)\n",
    "    ax.set_yticks(np.arange(0, 1700, 200))\n",
    "    ax.set_ylim(0, 1600)\n",
    "    ps = ((alley.value_counts() / alley.shape[0]) * 100).values\n",
    "    for i, p in enumerate(ax.patches):\n",
    "        ax.annotate('{0:.2f}%'.format(ps[i]), (p.get_x() + 0.25, p.get_height() + 50))\n",
    "    ax.set_ylabel('No.of Houses', size=15)\n",
    "    ax.set_xlabel('Alley', size=15)\n",
    "    fig.add_subplot(ax)\n",
    "    fig.set_size_inches(10, 5)"
   ]
  },
  {
   "cell_type": "markdown",
   "metadata": {
    "collapsed": true
   },
   "source": [
    "### Remarks:\n",
    "- Most of the properties that have been sold do not have an alley access.\n",
    "- This could mean having an alley access could either be undesirable in general."
   ]
  },
  {
   "cell_type": "markdown",
   "metadata": {},
   "source": [
    "## OverallQual: Rates the overall material and finish of the house\n",
    "- 10:\tVery Excellent\n",
    "- 9:\tExcellent\n",
    "- 8:\tVery Good\n",
    "- 7:\tGood\n",
    "- 6:\tAbove Average\n",
    "- 5:\tAverage\n",
    "- 4:\tBelow Average\n",
    "- 3:\tFair\n",
    "- 2:\tPoor\n",
    "- 1:\tVery Poor\n"
   ]
  },
  {
   "cell_type": "code",
   "execution_count": null,
   "metadata": {},
   "outputs": [],
   "source": [
    "sns.set(font_scale=1.2)\n",
    "with sns.axes_style(\"darkgrid\"):\n",
    "    fig = plt.figure()\n",
    "    ax = sns.countplot(x=\"OverallQual\", data=train, palette=sns.light_palette(\"green\", 10))\n",
    "    ax.set_title('Occurence counts of Quality types', size=20)\n",
    "    ax.set_yticks(np.arange(0, 500, 20))\n",
    "    ax.set_ylim(0, 450)\n",
    "    ps = ((train['OverallQual'].value_counts()[list(range(1, 11))] / train['OverallQual'].shape[0]) * 100).values\n",
    "    for i, p in enumerate(ax.patches):\n",
    "        ax.annotate('{0:.2f}%'.format(ps[i]), (p.get_x() + 0.1, p.get_height() + 5))\n",
    "    ax.set_ylabel('No.of Houses', size=15)\n",
    "    ax.set_xlabel('OverallQual', size=15)\n",
    "    fig.add_subplot(ax)\n",
    "    fig.set_size_inches(10, 10)"
   ]
  },
  {
   "cell_type": "markdown",
   "metadata": {},
   "source": [
    "### Remarks:\n",
    "- The graph shows an expected behaviour; while a poor quality properly rarely gets sold, an average quality one would be sold the most. Properties with excellent quality would come with a high price tag and would also be sold lot less compared to an average property.\n"
   ]
  },
  {
   "cell_type": "markdown",
   "metadata": {},
   "source": [
    "## YearBuilt: Original construction date\n"
   ]
  },
  {
   "cell_type": "code",
   "execution_count": null,
   "metadata": {},
   "outputs": [],
   "source": [
    "sns.set(font_scale=1.2)\n",
    "with sns.axes_style(\"whitegrid\"):\n",
    "    fig = plt.figure()\n",
    "    ax = sns.distplot(a=train[\"YearBuilt\"], kde=False, color='red')\n",
    "    ax.set_title('Distribution of YearBuilt', size=20)\n",
    "    ax.set_yticks(np.arange(0, 400, 50))\n",
    "    ax.set_xticks(np.arange(1860, 2017, 10))\n",
    "    ax.set_ylim(0, 350)\n",
    "    ax.set_ylabel('No.of Houses', size=15)\n",
    "    ax.set_xlabel('YearBuilt', size=15)\n",
    "    fig.add_subplot(ax)\n",
    "    fig.set_size_inches(10, 5)"
   ]
  },
  {
   "cell_type": "markdown",
   "metadata": {
    "collapsed": true
   },
   "source": [
    "### Remarks:\n",
    "- Houses that have been built in recent times are more likely to be sold.\n",
    "- The trend does not apply to the houses built around 1980 till 1995, the reasons for which needs further investigating."
   ]
  },
  {
   "cell_type": "markdown",
   "metadata": {},
   "source": [
    "## RoofStyle: Type of roof\n",
    "- Flat\n",
    "- Gable\t\n",
    "- Hip\t\n",
    "- Mansard\t\n",
    "- Shed\t\n"
   ]
  },
  {
   "cell_type": "code",
   "execution_count": null,
   "metadata": {},
   "outputs": [],
   "source": [
    "sns.set(font_scale=1.2)\n",
    "with sns.axes_style(\"whitegrid\"):\n",
    "    fig = plt.figure()\n",
    "    order=['Gable', 'Hip', 'Flat', 'Gambrel', 'Mansard', 'Shed']\n",
    "    ax = sns.countplot(x=\"RoofStyle\", data=train, order=order, palette='Set1')\n",
    "    ax.set_title('Occurence counts of Roof types', size=20)\n",
    "    ax.set_yticks(np.arange(0, 1300, 100))\n",
    "    ax.set_ylim(0, 1300)\n",
    "    ps = ((train['RoofStyle'].value_counts() / train['RoofStyle'].shape[0]) * 100).values\n",
    "    for i, p in enumerate(ax.patches):\n",
    "        ax.annotate('{0:.2f}%'.format(ps[i]), (p.get_x() + 0.1, p.get_height() + 20))\n",
    "    ax.set_ylabel('No.of Houses', size=15)\n",
    "    ax.set_xlabel('RoofStyle', size=15)\n",
    "    fig.add_subplot(ax)\n",
    "    fig.set_size_inches(10, 5)"
   ]
  },
  {
   "cell_type": "markdown",
   "metadata": {},
   "source": [
    "### Remarks:\n",
    "- Most of the houses sold have Gable roofs, or Gable is are the most common type of roof, followed by Hip roofs (by a large margin)"
   ]
  },
  {
   "cell_type": "markdown",
   "metadata": {},
   "source": [
    "## Exterior1st: Exterior covering on house\n",
    "- AsbShng:\tAsbestos Shingles\n",
    "- AsphShn:\tAsphalt Shingles\n",
    "- BrkComm:\tBrick Common\n",
    "- BrkFace:\tBrick Face\n",
    "- CBlock:\tCinder Block\n",
    "- CemntBd:\tCement Board\n",
    "- HdBoard:\tHard Board\n",
    "- ImStucc:\tImitation Stucco\n",
    "- MetalSd:\tMetal Siding\n",
    "- Other:\tOther\n",
    "- Plywood:\tPlywood\n",
    "- PreCast:\tPreCast\t\n",
    "- Stone:\tStone\n",
    "- Stucco:\tStucco\n",
    "- VinylSd:\tVinyl Siding\n",
    "- Wd Sdng:\tWood Siding\n",
    "- WdShing:\tWood Shingles"
   ]
  },
  {
   "cell_type": "code",
   "execution_count": null,
   "metadata": {
    "scrolled": false
   },
   "outputs": [],
   "source": [
    "sns.set(font_scale=1.5)\n",
    "with sns.axes_style(\"whitegrid\"):\n",
    "    fig = plt.figure()\n",
    "    ps = ((train['Exterior1st'].value_counts() / train['Exterior1st'].shape[0]) * 100)\n",
    "    vals = np.sort(ps.values)[::-1]\n",
    "    order = ps.index.values[np.argsort(ps.values)[::-1]].tolist()\n",
    "    ax = sns.countplot(x=\"Exterior1st\", order=order, data=train, palette='Set2')\n",
    "    ax.set_title('Occurence counts of Exterior Material types', size=27)\n",
    "    ax.set_yticks(np.arange(0, 600, 50))\n",
    "    ax.set_ylim(0, 550)\n",
    "    ax.set_xlabel(xlabel=\"Exterior1st\", size=23)\n",
    "    for i, p in enumerate(ax.patches):\n",
    "        ax.annotate('{0:.2f}%'.format(ps[i]), (p.get_x() + 0.07, p.get_height() + 4))\n",
    "    ax.set_ylabel('No.of Houses', size=23)\n",
    "    fig.add_subplot(ax)\n",
    "    fig.set_size_inches(20, 10)"
   ]
  },
  {
   "cell_type": "markdown",
   "metadata": {},
   "source": [
    "### Remarks:\n",
    "- While Vinyl Siding remains the popular choice for external covering of the house, hard boards, metal siding and wooden sidings are the next best choices."
   ]
  },
  {
   "cell_type": "code",
   "execution_count": null,
   "metadata": {
    "collapsed": true
   },
   "outputs": [],
   "source": []
  }
 ],
 "metadata": {
  "kernelspec": {
   "display_name": "Python 3",
   "language": "python",
   "name": "python3"
  },
  "language_info": {
   "codemirror_mode": {
    "name": "ipython",
    "version": 3
   },
   "file_extension": ".py",
   "mimetype": "text/x-python",
   "name": "python",
   "nbconvert_exporter": "python",
   "pygments_lexer": "ipython3",
   "version": "3.6.2"
  }
 },
 "nbformat": 4,
 "nbformat_minor": 2
}
