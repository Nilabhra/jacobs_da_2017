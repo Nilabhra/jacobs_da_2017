{
 "cells": [
  {
   "cell_type": "code",
   "execution_count": 3,
   "metadata": {
    "collapsed": true
   },
   "outputs": [],
   "source": [
    "import pandas as pd\n",
    "import seaborn as sns\n",
    "import matplotlib.pyplot as plt\n",
    "import numpy as np\n",
    "%matplotlib inline"
   ]
  },
  {
   "cell_type": "code",
   "execution_count": 4,
   "metadata": {
    "collapsed": true
   },
   "outputs": [],
   "source": [
    "train = pd.read_csv('train.csv')"
   ]
  },
  {
   "cell_type": "code",
   "execution_count": 5,
   "metadata": {},
   "outputs": [
    {
     "data": {
      "text/html": [
       "<div>\n",
       "<style>\n",
       "    .dataframe thead tr:only-child th {\n",
       "        text-align: right;\n",
       "    }\n",
       "\n",
       "    .dataframe thead th {\n",
       "        text-align: left;\n",
       "    }\n",
       "\n",
       "    .dataframe tbody tr th {\n",
       "        vertical-align: top;\n",
       "    }\n",
       "</style>\n",
       "<table border=\"1\" class=\"dataframe\">\n",
       "  <thead>\n",
       "    <tr style=\"text-align: right;\">\n",
       "      <th></th>\n",
       "      <th>Id</th>\n",
       "      <th>MSSubClass</th>\n",
       "      <th>MSZoning</th>\n",
       "      <th>LotFrontage</th>\n",
       "      <th>LotArea</th>\n",
       "      <th>Street</th>\n",
       "      <th>Alley</th>\n",
       "      <th>LotShape</th>\n",
       "      <th>LandContour</th>\n",
       "      <th>Utilities</th>\n",
       "      <th>...</th>\n",
       "      <th>PoolArea</th>\n",
       "      <th>PoolQC</th>\n",
       "      <th>Fence</th>\n",
       "      <th>MiscFeature</th>\n",
       "      <th>MiscVal</th>\n",
       "      <th>MoSold</th>\n",
       "      <th>YrSold</th>\n",
       "      <th>SaleType</th>\n",
       "      <th>SaleCondition</th>\n",
       "      <th>SalePrice</th>\n",
       "    </tr>\n",
       "  </thead>\n",
       "  <tbody>\n",
       "    <tr>\n",
       "      <th>0</th>\n",
       "      <td>1</td>\n",
       "      <td>60</td>\n",
       "      <td>RL</td>\n",
       "      <td>65.0</td>\n",
       "      <td>8450</td>\n",
       "      <td>Pave</td>\n",
       "      <td>NaN</td>\n",
       "      <td>Reg</td>\n",
       "      <td>Lvl</td>\n",
       "      <td>AllPub</td>\n",
       "      <td>...</td>\n",
       "      <td>0</td>\n",
       "      <td>NaN</td>\n",
       "      <td>NaN</td>\n",
       "      <td>NaN</td>\n",
       "      <td>0</td>\n",
       "      <td>2</td>\n",
       "      <td>2008</td>\n",
       "      <td>WD</td>\n",
       "      <td>Normal</td>\n",
       "      <td>208500</td>\n",
       "    </tr>\n",
       "    <tr>\n",
       "      <th>1</th>\n",
       "      <td>2</td>\n",
       "      <td>20</td>\n",
       "      <td>RL</td>\n",
       "      <td>80.0</td>\n",
       "      <td>9600</td>\n",
       "      <td>Pave</td>\n",
       "      <td>NaN</td>\n",
       "      <td>Reg</td>\n",
       "      <td>Lvl</td>\n",
       "      <td>AllPub</td>\n",
       "      <td>...</td>\n",
       "      <td>0</td>\n",
       "      <td>NaN</td>\n",
       "      <td>NaN</td>\n",
       "      <td>NaN</td>\n",
       "      <td>0</td>\n",
       "      <td>5</td>\n",
       "      <td>2007</td>\n",
       "      <td>WD</td>\n",
       "      <td>Normal</td>\n",
       "      <td>181500</td>\n",
       "    </tr>\n",
       "    <tr>\n",
       "      <th>2</th>\n",
       "      <td>3</td>\n",
       "      <td>60</td>\n",
       "      <td>RL</td>\n",
       "      <td>68.0</td>\n",
       "      <td>11250</td>\n",
       "      <td>Pave</td>\n",
       "      <td>NaN</td>\n",
       "      <td>IR1</td>\n",
       "      <td>Lvl</td>\n",
       "      <td>AllPub</td>\n",
       "      <td>...</td>\n",
       "      <td>0</td>\n",
       "      <td>NaN</td>\n",
       "      <td>NaN</td>\n",
       "      <td>NaN</td>\n",
       "      <td>0</td>\n",
       "      <td>9</td>\n",
       "      <td>2008</td>\n",
       "      <td>WD</td>\n",
       "      <td>Normal</td>\n",
       "      <td>223500</td>\n",
       "    </tr>\n",
       "    <tr>\n",
       "      <th>3</th>\n",
       "      <td>4</td>\n",
       "      <td>70</td>\n",
       "      <td>RL</td>\n",
       "      <td>60.0</td>\n",
       "      <td>9550</td>\n",
       "      <td>Pave</td>\n",
       "      <td>NaN</td>\n",
       "      <td>IR1</td>\n",
       "      <td>Lvl</td>\n",
       "      <td>AllPub</td>\n",
       "      <td>...</td>\n",
       "      <td>0</td>\n",
       "      <td>NaN</td>\n",
       "      <td>NaN</td>\n",
       "      <td>NaN</td>\n",
       "      <td>0</td>\n",
       "      <td>2</td>\n",
       "      <td>2006</td>\n",
       "      <td>WD</td>\n",
       "      <td>Abnorml</td>\n",
       "      <td>140000</td>\n",
       "    </tr>\n",
       "    <tr>\n",
       "      <th>4</th>\n",
       "      <td>5</td>\n",
       "      <td>60</td>\n",
       "      <td>RL</td>\n",
       "      <td>84.0</td>\n",
       "      <td>14260</td>\n",
       "      <td>Pave</td>\n",
       "      <td>NaN</td>\n",
       "      <td>IR1</td>\n",
       "      <td>Lvl</td>\n",
       "      <td>AllPub</td>\n",
       "      <td>...</td>\n",
       "      <td>0</td>\n",
       "      <td>NaN</td>\n",
       "      <td>NaN</td>\n",
       "      <td>NaN</td>\n",
       "      <td>0</td>\n",
       "      <td>12</td>\n",
       "      <td>2008</td>\n",
       "      <td>WD</td>\n",
       "      <td>Normal</td>\n",
       "      <td>250000</td>\n",
       "    </tr>\n",
       "  </tbody>\n",
       "</table>\n",
       "<p>5 rows × 81 columns</p>\n",
       "</div>"
      ],
      "text/plain": [
       "   Id  MSSubClass MSZoning  LotFrontage  LotArea Street Alley LotShape  \\\n",
       "0   1          60       RL         65.0     8450   Pave   NaN      Reg   \n",
       "1   2          20       RL         80.0     9600   Pave   NaN      Reg   \n",
       "2   3          60       RL         68.0    11250   Pave   NaN      IR1   \n",
       "3   4          70       RL         60.0     9550   Pave   NaN      IR1   \n",
       "4   5          60       RL         84.0    14260   Pave   NaN      IR1   \n",
       "\n",
       "  LandContour Utilities    ...     PoolArea PoolQC Fence MiscFeature MiscVal  \\\n",
       "0         Lvl    AllPub    ...            0    NaN   NaN         NaN       0   \n",
       "1         Lvl    AllPub    ...            0    NaN   NaN         NaN       0   \n",
       "2         Lvl    AllPub    ...            0    NaN   NaN         NaN       0   \n",
       "3         Lvl    AllPub    ...            0    NaN   NaN         NaN       0   \n",
       "4         Lvl    AllPub    ...            0    NaN   NaN         NaN       0   \n",
       "\n",
       "  MoSold YrSold  SaleType  SaleCondition  SalePrice  \n",
       "0      2   2008        WD         Normal     208500  \n",
       "1      5   2007        WD         Normal     181500  \n",
       "2      9   2008        WD         Normal     223500  \n",
       "3      2   2006        WD        Abnorml     140000  \n",
       "4     12   2008        WD         Normal     250000  \n",
       "\n",
       "[5 rows x 81 columns]"
      ]
     },
     "execution_count": 5,
     "metadata": {},
     "output_type": "execute_result"
    }
   ],
   "source": [
    "train.head()"
   ]
  },
  {
   "cell_type": "code",
   "execution_count": 6,
   "metadata": {
    "collapsed": true
   },
   "outputs": [],
   "source": [
    "cols = ['MSZoning', 'LotFrontage', 'LotArea', 'Alley', 'OverallQual', 'YearBuilt',\\\n",
    "        'RoofStyle', 'Exterior1st', 'ExterCond', 'CentralAir',  'HalfBath']"
   ]
  },
  {
   "cell_type": "code",
   "execution_count": 7,
   "metadata": {},
   "outputs": [
    {
     "data": {
      "text/html": [
       "<div>\n",
       "<style>\n",
       "    .dataframe thead tr:only-child th {\n",
       "        text-align: right;\n",
       "    }\n",
       "\n",
       "    .dataframe thead th {\n",
       "        text-align: left;\n",
       "    }\n",
       "\n",
       "    .dataframe tbody tr th {\n",
       "        vertical-align: top;\n",
       "    }\n",
       "</style>\n",
       "<table border=\"1\" class=\"dataframe\">\n",
       "  <thead>\n",
       "    <tr style=\"text-align: right;\">\n",
       "      <th></th>\n",
       "      <th>MSZoning</th>\n",
       "      <th>LotFrontage</th>\n",
       "      <th>LotArea</th>\n",
       "      <th>Alley</th>\n",
       "      <th>OverallQual</th>\n",
       "      <th>YearBuilt</th>\n",
       "      <th>RoofStyle</th>\n",
       "      <th>Exterior1st</th>\n",
       "      <th>ExterCond</th>\n",
       "      <th>CentralAir</th>\n",
       "      <th>HalfBath</th>\n",
       "    </tr>\n",
       "  </thead>\n",
       "  <tbody>\n",
       "    <tr>\n",
       "      <th>0</th>\n",
       "      <td>RL</td>\n",
       "      <td>65.0</td>\n",
       "      <td>8450</td>\n",
       "      <td>NaN</td>\n",
       "      <td>7</td>\n",
       "      <td>2003</td>\n",
       "      <td>Gable</td>\n",
       "      <td>VinylSd</td>\n",
       "      <td>TA</td>\n",
       "      <td>Y</td>\n",
       "      <td>1</td>\n",
       "    </tr>\n",
       "    <tr>\n",
       "      <th>1</th>\n",
       "      <td>RL</td>\n",
       "      <td>80.0</td>\n",
       "      <td>9600</td>\n",
       "      <td>NaN</td>\n",
       "      <td>6</td>\n",
       "      <td>1976</td>\n",
       "      <td>Gable</td>\n",
       "      <td>MetalSd</td>\n",
       "      <td>TA</td>\n",
       "      <td>Y</td>\n",
       "      <td>0</td>\n",
       "    </tr>\n",
       "    <tr>\n",
       "      <th>2</th>\n",
       "      <td>RL</td>\n",
       "      <td>68.0</td>\n",
       "      <td>11250</td>\n",
       "      <td>NaN</td>\n",
       "      <td>7</td>\n",
       "      <td>2001</td>\n",
       "      <td>Gable</td>\n",
       "      <td>VinylSd</td>\n",
       "      <td>TA</td>\n",
       "      <td>Y</td>\n",
       "      <td>1</td>\n",
       "    </tr>\n",
       "    <tr>\n",
       "      <th>3</th>\n",
       "      <td>RL</td>\n",
       "      <td>60.0</td>\n",
       "      <td>9550</td>\n",
       "      <td>NaN</td>\n",
       "      <td>7</td>\n",
       "      <td>1915</td>\n",
       "      <td>Gable</td>\n",
       "      <td>Wd Sdng</td>\n",
       "      <td>TA</td>\n",
       "      <td>Y</td>\n",
       "      <td>0</td>\n",
       "    </tr>\n",
       "    <tr>\n",
       "      <th>4</th>\n",
       "      <td>RL</td>\n",
       "      <td>84.0</td>\n",
       "      <td>14260</td>\n",
       "      <td>NaN</td>\n",
       "      <td>8</td>\n",
       "      <td>2000</td>\n",
       "      <td>Gable</td>\n",
       "      <td>VinylSd</td>\n",
       "      <td>TA</td>\n",
       "      <td>Y</td>\n",
       "      <td>1</td>\n",
       "    </tr>\n",
       "  </tbody>\n",
       "</table>\n",
       "</div>"
      ],
      "text/plain": [
       "  MSZoning  LotFrontage  LotArea Alley  OverallQual  YearBuilt RoofStyle  \\\n",
       "0       RL         65.0     8450   NaN            7       2003     Gable   \n",
       "1       RL         80.0     9600   NaN            6       1976     Gable   \n",
       "2       RL         68.0    11250   NaN            7       2001     Gable   \n",
       "3       RL         60.0     9550   NaN            7       1915     Gable   \n",
       "4       RL         84.0    14260   NaN            8       2000     Gable   \n",
       "\n",
       "  Exterior1st ExterCond CentralAir  HalfBath  \n",
       "0     VinylSd        TA          Y         1  \n",
       "1     MetalSd        TA          Y         0  \n",
       "2     VinylSd        TA          Y         1  \n",
       "3     Wd Sdng        TA          Y         0  \n",
       "4     VinylSd        TA          Y         1  "
      ]
     },
     "execution_count": 7,
     "metadata": {},
     "output_type": "execute_result"
    }
   ],
   "source": [
    "train[cols].head()"
   ]
  },
  {
   "cell_type": "code",
   "execution_count": 8,
   "metadata": {},
   "outputs": [
    {
     "data": {
      "text/plain": [
       "(1460, 11)"
      ]
     },
     "execution_count": 8,
     "metadata": {},
     "output_type": "execute_result"
    }
   ],
   "source": [
    "train[cols].shape"
   ]
  },
  {
   "cell_type": "code",
   "execution_count": 9,
   "metadata": {},
   "outputs": [
    {
     "data": {
      "text/html": [
       "<div>\n",
       "<style>\n",
       "    .dataframe thead tr:only-child th {\n",
       "        text-align: right;\n",
       "    }\n",
       "\n",
       "    .dataframe thead th {\n",
       "        text-align: left;\n",
       "    }\n",
       "\n",
       "    .dataframe tbody tr th {\n",
       "        vertical-align: top;\n",
       "    }\n",
       "</style>\n",
       "<table border=\"1\" class=\"dataframe\">\n",
       "  <thead>\n",
       "    <tr style=\"text-align: right;\">\n",
       "      <th></th>\n",
       "      <th>LotFrontage</th>\n",
       "      <th>LotArea</th>\n",
       "      <th>OverallQual</th>\n",
       "      <th>YearBuilt</th>\n",
       "      <th>HalfBath</th>\n",
       "    </tr>\n",
       "  </thead>\n",
       "  <tbody>\n",
       "    <tr>\n",
       "      <th>count</th>\n",
       "      <td>1201.000000</td>\n",
       "      <td>1460.000000</td>\n",
       "      <td>1460.000000</td>\n",
       "      <td>1460.000000</td>\n",
       "      <td>1460.000000</td>\n",
       "    </tr>\n",
       "    <tr>\n",
       "      <th>mean</th>\n",
       "      <td>70.049958</td>\n",
       "      <td>10516.828082</td>\n",
       "      <td>6.099315</td>\n",
       "      <td>1971.267808</td>\n",
       "      <td>0.382877</td>\n",
       "    </tr>\n",
       "    <tr>\n",
       "      <th>std</th>\n",
       "      <td>24.284752</td>\n",
       "      <td>9981.264932</td>\n",
       "      <td>1.382997</td>\n",
       "      <td>30.202904</td>\n",
       "      <td>0.502885</td>\n",
       "    </tr>\n",
       "    <tr>\n",
       "      <th>min</th>\n",
       "      <td>21.000000</td>\n",
       "      <td>1300.000000</td>\n",
       "      <td>1.000000</td>\n",
       "      <td>1872.000000</td>\n",
       "      <td>0.000000</td>\n",
       "    </tr>\n",
       "    <tr>\n",
       "      <th>25%</th>\n",
       "      <td>59.000000</td>\n",
       "      <td>7553.500000</td>\n",
       "      <td>5.000000</td>\n",
       "      <td>1954.000000</td>\n",
       "      <td>0.000000</td>\n",
       "    </tr>\n",
       "    <tr>\n",
       "      <th>50%</th>\n",
       "      <td>69.000000</td>\n",
       "      <td>9478.500000</td>\n",
       "      <td>6.000000</td>\n",
       "      <td>1973.000000</td>\n",
       "      <td>0.000000</td>\n",
       "    </tr>\n",
       "    <tr>\n",
       "      <th>75%</th>\n",
       "      <td>80.000000</td>\n",
       "      <td>11601.500000</td>\n",
       "      <td>7.000000</td>\n",
       "      <td>2000.000000</td>\n",
       "      <td>1.000000</td>\n",
       "    </tr>\n",
       "    <tr>\n",
       "      <th>max</th>\n",
       "      <td>313.000000</td>\n",
       "      <td>215245.000000</td>\n",
       "      <td>10.000000</td>\n",
       "      <td>2010.000000</td>\n",
       "      <td>2.000000</td>\n",
       "    </tr>\n",
       "  </tbody>\n",
       "</table>\n",
       "</div>"
      ],
      "text/plain": [
       "       LotFrontage        LotArea  OverallQual    YearBuilt     HalfBath\n",
       "count  1201.000000    1460.000000  1460.000000  1460.000000  1460.000000\n",
       "mean     70.049958   10516.828082     6.099315  1971.267808     0.382877\n",
       "std      24.284752    9981.264932     1.382997    30.202904     0.502885\n",
       "min      21.000000    1300.000000     1.000000  1872.000000     0.000000\n",
       "25%      59.000000    7553.500000     5.000000  1954.000000     0.000000\n",
       "50%      69.000000    9478.500000     6.000000  1973.000000     0.000000\n",
       "75%      80.000000   11601.500000     7.000000  2000.000000     1.000000\n",
       "max     313.000000  215245.000000    10.000000  2010.000000     2.000000"
      ]
     },
     "execution_count": 9,
     "metadata": {},
     "output_type": "execute_result"
    }
   ],
   "source": [
    "train[cols].describe()"
   ]
  },
  {
   "cell_type": "code",
   "execution_count": 10,
   "metadata": {},
   "outputs": [
    {
     "name": "stdout",
     "output_type": "stream",
     "text": [
      "RL         1151\n",
      "RM          218\n",
      "FV           65\n",
      "RH           16\n",
      "C (all)      10\n",
      "Name: MSZoning, dtype: int64\n",
      "60.0     143\n",
      "70.0      70\n",
      "80.0      69\n",
      "50.0      57\n",
      "75.0      53\n",
      "65.0      44\n",
      "85.0      40\n",
      "78.0      25\n",
      "21.0      23\n",
      "90.0      23\n",
      "68.0      19\n",
      "24.0      19\n",
      "64.0      19\n",
      "73.0      18\n",
      "72.0      17\n",
      "79.0      17\n",
      "63.0      17\n",
      "55.0      17\n",
      "100.0     16\n",
      "51.0      15\n",
      "66.0      15\n",
      "74.0      15\n",
      "52.0      14\n",
      "59.0      13\n",
      "71.0      12\n",
      "82.0      12\n",
      "40.0      12\n",
      "43.0      12\n",
      "67.0      12\n",
      "57.0      12\n",
      "        ... \n",
      "129.0      2\n",
      "124.0      2\n",
      "118.0      2\n",
      "101.0      2\n",
      "122.0      2\n",
      "121.0      2\n",
      "115.0      2\n",
      "109.0      2\n",
      "116.0      2\n",
      "114.0      2\n",
      "150.0      1\n",
      "111.0      1\n",
      "153.0      1\n",
      "182.0      1\n",
      "46.0       1\n",
      "112.0      1\n",
      "149.0      1\n",
      "141.0      1\n",
      "33.0       1\n",
      "152.0      1\n",
      "160.0      1\n",
      "168.0      1\n",
      "128.0      1\n",
      "144.0      1\n",
      "39.0       1\n",
      "106.0      1\n",
      "38.0       1\n",
      "138.0      1\n",
      "140.0      1\n",
      "137.0      1\n",
      "Name: LotFrontage, Length: 110, dtype: int64\n",
      "7200     25\n",
      "9600     24\n",
      "6000     17\n",
      "10800    14\n",
      "9000     14\n",
      "8400     14\n",
      "1680     10\n",
      "7500      9\n",
      "8125      8\n",
      "9100      8\n",
      "6120      8\n",
      "6240      8\n",
      "3182      7\n",
      "7800      6\n",
      "8450      6\n",
      "10000     5\n",
      "4500      5\n",
      "4435      5\n",
      "5000      5\n",
      "10140     5\n",
      "9750      5\n",
      "10400     5\n",
      "5400      5\n",
      "7018      4\n",
      "11700     4\n",
      "9375      4\n",
      "8800      4\n",
      "9900      4\n",
      "8750      4\n",
      "6600      4\n",
      "         ..\n",
      "3136      1\n",
      "13418     1\n",
      "10448     1\n",
      "8849      1\n",
      "7313      1\n",
      "11425     1\n",
      "13472     1\n",
      "8029      1\n",
      "11952     1\n",
      "9738      1\n",
      "12936     1\n",
      "5271      1\n",
      "11414     1\n",
      "12122     1\n",
      "9364      1\n",
      "7314      1\n",
      "9360      1\n",
      "16226     1\n",
      "11404     1\n",
      "15498     1\n",
      "9353      1\n",
      "11400     1\n",
      "14175     1\n",
      "7301      1\n",
      "11394     1\n",
      "7094      1\n",
      "6130      1\n",
      "9337      1\n",
      "5232      1\n",
      "8190      1\n",
      "Name: LotArea, Length: 1073, dtype: int64\n",
      "Grvl    50\n",
      "Pave    41\n",
      "Name: Alley, dtype: int64\n",
      "5     397\n",
      "6     374\n",
      "7     319\n",
      "8     168\n",
      "4     116\n",
      "9      43\n",
      "3      20\n",
      "10     18\n",
      "2       3\n",
      "1       2\n",
      "Name: OverallQual, dtype: int64\n",
      "2006    67\n",
      "2005    64\n",
      "2004    54\n",
      "2007    49\n",
      "2003    45\n",
      "1976    33\n",
      "1977    32\n",
      "1920    30\n",
      "1959    26\n",
      "1999    25\n",
      "1998    25\n",
      "1958    24\n",
      "1965    24\n",
      "1970    24\n",
      "1954    24\n",
      "2000    24\n",
      "2002    23\n",
      "2008    23\n",
      "1972    23\n",
      "1968    22\n",
      "1971    22\n",
      "1950    20\n",
      "2001    20\n",
      "1957    20\n",
      "1962    19\n",
      "1994    19\n",
      "1966    18\n",
      "2009    18\n",
      "1995    18\n",
      "1940    18\n",
      "        ..\n",
      "1986     5\n",
      "1952     5\n",
      "1880     4\n",
      "1929     4\n",
      "1932     4\n",
      "1938     4\n",
      "1983     4\n",
      "1927     3\n",
      "1919     3\n",
      "1934     3\n",
      "1989     3\n",
      "1987     3\n",
      "1912     3\n",
      "1885     2\n",
      "1892     2\n",
      "1890     2\n",
      "1942     2\n",
      "1908     2\n",
      "1882     1\n",
      "1875     1\n",
      "1893     1\n",
      "2010     1\n",
      "1898     1\n",
      "1904     1\n",
      "1905     1\n",
      "1906     1\n",
      "1911     1\n",
      "1913     1\n",
      "1917     1\n",
      "1872     1\n",
      "Name: YearBuilt, Length: 112, dtype: int64\n",
      "Gable      1141\n",
      "Hip         286\n",
      "Flat         13\n",
      "Gambrel      11\n",
      "Mansard       7\n",
      "Shed          2\n",
      "Name: RoofStyle, dtype: int64\n",
      "VinylSd    515\n",
      "HdBoard    222\n",
      "MetalSd    220\n",
      "Wd Sdng    206\n",
      "Plywood    108\n",
      "CemntBd     61\n",
      "BrkFace     50\n",
      "WdShing     26\n",
      "Stucco      25\n",
      "AsbShng     20\n",
      "BrkComm      2\n",
      "Stone        2\n",
      "CBlock       1\n",
      "AsphShn      1\n",
      "ImStucc      1\n",
      "Name: Exterior1st, dtype: int64\n",
      "TA    1282\n",
      "Gd     146\n",
      "Fa      28\n",
      "Ex       3\n",
      "Po       1\n",
      "Name: ExterCond, dtype: int64\n",
      "Y    1365\n",
      "N      95\n",
      "Name: CentralAir, dtype: int64\n",
      "0    913\n",
      "1    535\n",
      "2     12\n",
      "Name: HalfBath, dtype: int64\n"
     ]
    }
   ],
   "source": [
    "for col in cols:\n",
    "    print(train[col].value_counts())"
   ]
  },
  {
   "cell_type": "markdown",
   "metadata": {},
   "source": [
    "## Notes\n",
    "- MSZoning: Categorical\n",
    "- LotFrontage: Numerical Continuous\n",
    "- LotArea: Numerical Continuous\n",
    "- Alley: Categorical\n",
    "- OverallQual: Ordinal\n",
    "- YearBuilt: Numerical Discrete\n",
    "- RoofStyle: Categorical\n",
    "- Exterioirlst: Categorical\n",
    "- ExterCond: Categorical\n",
    "- CentralAir: Categorical\n",
    "- HalfBath: Oridinal"
   ]
  },
  {
   "cell_type": "code",
   "execution_count": 11,
   "metadata": {},
   "outputs": [
    {
     "name": "stdout",
     "output_type": "stream",
     "text": [
      "MSZoning: 0: 0.0%\n",
      "LotFrontage: 259: 17.73972602739726%\n",
      "LotArea: 0: 0.0%\n",
      "Alley: 1369: 93.76712328767124%\n",
      "OverallQual: 0: 0.0%\n",
      "YearBuilt: 0: 0.0%\n",
      "RoofStyle: 0: 0.0%\n",
      "Exterior1st: 0: 0.0%\n",
      "ExterCond: 0: 0.0%\n",
      "CentralAir: 0: 0.0%\n",
      "HalfBath: 0: 0.0%\n"
     ]
    }
   ],
   "source": [
    "for col in cols:\n",
    "    print('{}: {}: {}%'.format(col, train[col].isnull().sum(), train[col].isnull().sum()*100/train[col].shape[0]))"
   ]
  },
  {
   "cell_type": "markdown",
   "metadata": {},
   "source": [
    "## MSZoning: Identifies the general zoning classification of the sale.\n",
    "\t\t\n",
    "- A  : Agriculture\n",
    "- C  : Commercial\n",
    "- FV : Floating Village Residential\n",
    "- I\t : Industrial\n",
    "- RH : Residential High Density\n",
    "- RL : Residential Low Density\n",
    "- RP : Residential Low Density Park \n",
    "- RM : Residential Medium Density"
   ]
  },
  {
   "cell_type": "code",
   "execution_count": 12,
   "metadata": {
    "collapsed": true
   },
   "outputs": [],
   "source": [
    "mszoning = train[train['MSZoning'].isnull() == False]['MSZoning']"
   ]
  },
  {
   "cell_type": "code",
   "execution_count": 75,
   "metadata": {},
   "outputs": [
    {
     "data": {
      "image/png": "[encoded data removed]",
      "text/plain": [
       "<matplotlib.figure.Figure at 0x1118a0ba8>"
      ]
     },
     "metadata": {},
     "output_type": "display_data"
    }
   ],
   "source": [
    "sns.set(font_scale=1.2)\n",
    "with sns.axes_style(\"whitegrid\"):\n",
    "    fig = plt.figure()\n",
    "    ax = sns.countplot(x=mszoning, orient=\"v\", order=['RL', 'RM', 'FV', 'C (all)', 'RH'])\n",
    "    ax.set_title('Occurence counts of various zone types')\n",
    "    ax.set_ylabel('No.of Houses')\n",
    "    ps = ((mszoning.value_counts() / mszoning.shape[0]) * 100).values\n",
    "    for i, p in enumerate(ax.patches):\n",
    "        ax.annotate('{0:.2f}%'.format(ps[i]), (p.get_x() + 0.15, p.get_height()+20))\n",
    "    ax.set_yticks(np.arange(0, 1400, 100))\n",
    "    fig.add_subplot(ax)\n",
    "    fig.set_size_inches(10, 5)"
   ]
  },
  {
   "cell_type": "markdown",
   "metadata": {},
   "source": [
    "### Remarks:\n",
    "- 77.7% of all the properties that have been considered for selling are residential areas with low population density.\n",
    "- 15.78% of all the properties that have been considered for selling are residential areas with medium population density.\n",
    "- We can infer from the above data that there is a high demand of residential area which have medium to low densities"
   ]
  },
  {
   "cell_type": "markdown",
   "metadata": {},
   "source": [
    "## LotFrontage: Linear feet of street connected to property"
   ]
  },
  {
   "cell_type": "code",
   "execution_count": 14,
   "metadata": {
    "collapsed": true
   },
   "outputs": [],
   "source": [
    "lotfrontage = train[train['LotFrontage'].isnull() == False]['LotFrontage']"
   ]
  },
  {
   "cell_type": "code",
   "execution_count": 15,
   "metadata": {},
   "outputs": [
    {
     "data": {
      "text/plain": [
       "count    1201.000000\n",
       "mean       70.049958\n",
       "std        24.284752\n",
       "min        21.000000\n",
       "25%        59.000000\n",
       "50%        69.000000\n",
       "75%        80.000000\n",
       "max       313.000000\n",
       "Name: LotFrontage, dtype: float64"
      ]
     },
     "execution_count": 15,
     "metadata": {},
     "output_type": "execute_result"
    }
   ],
   "source": [
    "lotfrontage.describe()"
   ]
  },
  {
   "cell_type": "code",
   "execution_count": 67,
   "metadata": {},
   "outputs": [
    {
     "data": {
      "image/png": "[encoded data removed]",
      "text/plain": [
       "<matplotlib.figure.Figure at 0x1117acfd0>"
      ]
     },
     "metadata": {},
     "output_type": "display_data"
    }
   ],
   "source": [
    "sns.set(font_scale=1.2)\n",
    "with sns.axes_style(\"whitegrid\"):\n",
    "    fig = plt.figure()\n",
    "    ax = sns.distplot(a=lotfrontage, kde=False, color='purple', bins=70)\n",
    "    ax.set_title('Distribution of LotFrontage')\n",
    "    ax.set_yticks(np.arange(0, 200, 20))\n",
    "    ax.set_xticks(np.arange(0, 350, 20))\n",
    "    ax.set_ylabel('No.of Houses')\n",
    "    ax.set_xlabel('LotFrontage (feet)')\n",
    "    fig.add_subplot(ax)\n",
    "    fig.set_size_inches(10, 5)"
   ]
  },
  {
   "cell_type": "code",
   "execution_count": 17,
   "metadata": {},
   "outputs": [
    {
     "data": {
      "text/plain": [
       "array([ 130.,  130.,  134.,  134.,  137.,  138.,  140.,  141.,  144.,\n",
       "        149.,  150.,  152.,  153.,  160.,  168.,  174.,  174.,  182.,\n",
       "        313.,  313.])"
      ]
     },
     "execution_count": 17,
     "metadata": {},
     "output_type": "execute_result"
    }
   ],
   "source": [
    "np.sort(lotfrontage.values)[-20:]"
   ]
  },
  {
   "cell_type": "markdown",
   "metadata": {},
   "source": [
    "### Remarks:\n",
    "- Most of the properties have street of lenght 60 to 80 feet connected to it.\n",
    "- It is highly likely there are two outliers which have a 313 feet of street connected to the property. "
   ]
  },
  {
   "cell_type": "markdown",
   "metadata": {},
   "source": [
    "## LotArea: Lot size in square feet"
   ]
  },
  {
   "cell_type": "code",
   "execution_count": 18,
   "metadata": {
    "collapsed": true
   },
   "outputs": [],
   "source": [
    "lotarea = train[train['LotArea'].isnull() == False]['LotArea']"
   ]
  },
  {
   "cell_type": "code",
   "execution_count": 62,
   "metadata": {},
   "outputs": [
    {
     "data": {
      "image/png": "[encoded data removed]",
      "text/plain": [
       "<matplotlib.figure.Figure at 0x1125a1ac8>"
      ]
     },
     "metadata": {},
     "output_type": "display_data"
    }
   ],
   "source": [
    "sns.set(font_scale=1.2)\n",
    "with sns.axes_style(\"whitegrid\"):\n",
    "    fig = plt.figure()\n",
    "    ax = sns.distplot(a=lotarea, kde=False, color='blue', bins=200)\n",
    "    ax.set_title('Distribution of LotArea')\n",
    "    ax.set_xticks(np.arange(0, 250000, 5000))\n",
    "    ax.set_xlim(0, 60000)\n",
    "    ax.set_yticks(np.arange(0, 500, 50))\n",
    "    ax.set_ylim(0, 250)\n",
    "    ax.set_ylabel('No.of Houses')\n",
    "    ax.set_xlabel('LotArea (square feet)')\n",
    "    fig.add_subplot(ax)\n",
    "    fig.set_size_inches(10, 5)"
   ]
  },
  {
   "cell_type": "markdown",
   "metadata": {},
   "source": [
    "### Remarks:\n",
    "- Most of the properties sold have a lot area of 5000 to 1000 square feet.\n",
    "- We could conclude that large properties are sold rarely."
   ]
  },
  {
   "cell_type": "markdown",
   "metadata": {},
   "source": [
    "## Alley: Type of alley access to property\n",
    "- Grvl:\tGravel\n",
    "- Pave: Paved\n",
    "- NA: \tNo alley access"
   ]
  },
  {
   "cell_type": "code",
   "execution_count": 20,
   "metadata": {
    "collapsed": true
   },
   "outputs": [],
   "source": [
    "alley = train['Alley']\n",
    "alley = alley.fillna('No Alley Access')\n",
    "alley = alley.replace('Grvl', 'Gravel')\n",
    "alley = alley.replace('Pave', 'Paved')"
   ]
  },
  {
   "cell_type": "code",
   "execution_count": 63,
   "metadata": {},
   "outputs": [
    {
     "data": {
      "image/png": "[encoded data removed]",
      "text/plain": [
       "<matplotlib.figure.Figure at 0x11184d048>"
      ]
     },
     "metadata": {},
     "output_type": "display_data"
    }
   ],
   "source": [
    "sns.set(font_scale=1.2)\n",
    "with sns.axes_style(\"whitegrid\"):\n",
    "    fig = plt.figure()\n",
    "    ax = sns.countplot(x=alley, order=['No Alley Access', 'Gravel', 'Paved'], palette='Set2')\n",
    "    ax.set_title('Occurence counts of Alley types')\n",
    "    ax.set_yticks(np.arange(0, 1700, 200))\n",
    "    ax.set_ylim(0, 1600)\n",
    "    ps = ((alley.value_counts() / alley.shape[0]) * 100).values\n",
    "    for i, p in enumerate(ax.patches):\n",
    "        ax.annotate('{0:.2f}%'.format(ps[i]), (p.get_x() + 0.25, p.get_height() + 50))\n",
    "    ax.set_ylabel('No.of Houses')\n",
    "    fig.add_subplot(ax)\n",
    "    fig.set_size_inches(10, 5)"
   ]
  },
  {
   "cell_type": "markdown",
   "metadata": {
    "collapsed": true
   },
   "source": [
    "### Remarks:\n",
    "- Most of the properties that have been sold do not have an alley access.\n",
    "- This could mean having an alley access could either be undesirable in general."
   ]
  },
  {
   "cell_type": "markdown",
   "metadata": {},
   "source": [
    "## OverallQual: Rates the overall material and finish of the house\n",
    "- 10:\tVery Excellent\n",
    "- 9:\tExcellent\n",
    "- 8:\tVery Good\n",
    "- 7:\tGood\n",
    "- 6:\tAbove Average\n",
    "- 5:\tAverage\n",
    "- 4:\tBelow Average\n",
    "- 3:\tFair\n",
    "- 2:\tPoor\n",
    "- 1:\tVery Poor\n"
   ]
  },
  {
   "cell_type": "code",
   "execution_count": 52,
   "metadata": {},
   "outputs": [
    {
     "data": {
      "image/png": "[encoded data removed]",
      "text/plain": [
       "<matplotlib.figure.Figure at 0x1114a0a90>"
      ]
     },
     "metadata": {},
     "output_type": "display_data"
    }
   ],
   "source": [
    "sns.set(font_scale=1.2)\n",
    "with sns.axes_style(\"darkgrid\"):\n",
    "    fig = plt.figure()\n",
    "    ax = sns.countplot(x=\"OverallQual\", data=train, palette=sns.light_palette(\"green\", 10))\n",
    "    ax.set_title('Occurence counts of Quality types')\n",
    "    ax.set_yticks(np.arange(0, 500, 50))\n",
    "    ax.set_ylim(0, 450)\n",
    "    ps = ((train['OverallQual'].value_counts()[list(range(1, 11))] / train['OverallQual'].shape[0]) * 100).values\n",
    "    for i, p in enumerate(ax.patches):\n",
    "        ax.annotate('{0:.2f}%'.format(ps[i]), (p.get_x() + 0.1, p.get_height() + 5))\n",
    "    ax.set_ylabel('No.of Houses')\n",
    "    fig.add_subplot(ax)\n",
    "    fig.set_size_inches(10, 10)"
   ]
  },
  {
   "cell_type": "markdown",
   "metadata": {},
   "source": [
    "### Remarks:\n",
    "- The graph shows an expected behaviour; while a poor quality properly rarely gets sold, an average quality one would be sold the most. Properties with excellent quality would come with a high price tag and would also be sold lot less compared to an average property.\n"
   ]
  },
  {
   "cell_type": "markdown",
   "metadata": {},
   "source": [
    "## YearBuilt: Original construction date\n"
   ]
  },
  {
   "cell_type": "code",
   "execution_count": 51,
   "metadata": {},
   "outputs": [
    {
     "data": {
      "image/png": "[encoded data removed]",
      "text/plain": [
       "<matplotlib.figure.Figure at 0x11182def0>"
      ]
     },
     "metadata": {},
     "output_type": "display_data"
    }
   ],
   "source": [
    "sns.set(font_scale=1.2)\n",
    "with sns.axes_style(\"whitegrid\"):\n",
    "    fig = plt.figure()\n",
    "    ax = sns.distplot(a=train[\"YearBuilt\"], kde=False, color='red')\n",
    "    ax.set_title('Distribution of YearBuilt')\n",
    "    ax.set_yticks(np.arange(0, 400, 50))\n",
    "    ax.set_xticks(np.arange(1860, 2017, 10))\n",
    "    ax.set_ylim(0, 350)\n",
    "    ax.set_ylabel('No.of Houses')\n",
    "    fig.add_subplot(ax)\n",
    "    fig.set_size_inches(10, 5)"
   ]
  },
  {
   "cell_type": "markdown",
   "metadata": {
    "collapsed": true
   },
   "source": [
    "### Remarks:\n",
    "- Houses that have been built in recent times are more likely to be sold.\n",
    "- The trend does not apply to the houses built around 1980 till 1995, the reasons for which needs further investigating."
   ]
  },
  {
   "cell_type": "markdown",
   "metadata": {},
   "source": [
    "## RoofStyle: Type of roof\n",
    "- Flat\n",
    "- Gable\t\n",
    "- Hip\t\n",
    "- Mansard\t\n",
    "- Shed\t\n"
   ]
  },
  {
   "cell_type": "code",
   "execution_count": 49,
   "metadata": {},
   "outputs": [
    {
     "data": {
      "image/png": "[encoded data removed]",
      "text/plain": [
       "<matplotlib.figure.Figure at 0x111795e10>"
      ]
     },
     "metadata": {},
     "output_type": "display_data"
    }
   ],
   "source": [
    "sns.set(font_scale=1.2)\n",
    "with sns.axes_style(\"whitegrid\"):\n",
    "    fig = plt.figure()\n",
    "    ax = sns.countplot(x=\"RoofStyle\", data=train, order=['Gable', 'Hip', 'Flat', 'Gambrel', 'Mansard', 'Shed'],\n",
    "                       palette='Set1')\n",
    "    ax.set_title('Occurence counts of Roof types')\n",
    "    ax.set_yticks(np.arange(0, 1300, 100))\n",
    "    ax.set_ylim(0, 1300)\n",
    "    ps = ((train['RoofStyle'].value_counts() / train['RoofStyle'].shape[0]) * 100).values\n",
    "    for i, p in enumerate(ax.patches):\n",
    "        ax.annotate('{0:.2f}%'.format(ps[i]), (p.get_x() + 0.1, p.get_height() + 20))\n",
    "    ax.set_ylabel('No.of Houses')\n",
    "    fig.add_subplot(ax)\n",
    "    fig.set_size_inches(10, 5)"
   ]
  }
 ],
 "metadata": {
  "kernelspec": {
   "display_name": "Python 3",
   "language": "python",
   "name": "python3"
  },
  "language_info": {
   "codemirror_mode": {
    "name": "ipython",
    "version": 3
   },
   "file_extension": ".py",
   "mimetype": "text/x-python",
   "name": "python",
   "nbconvert_exporter": "python",
   "pygments_lexer": "ipython3",
   "version": "3.6.2"
  }
 },
 "nbformat": 4,
 "nbformat_minor": 2
}
